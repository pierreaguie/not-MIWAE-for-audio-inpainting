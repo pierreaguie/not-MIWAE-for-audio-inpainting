{
 "cells": [
  {
   "cell_type": "code",
   "execution_count": 1,
   "metadata": {},
   "outputs": [],
   "source": [
    "import torch\n",
    "import torch.nn as nn\n",
    "\n",
    "from src.models import notMIWAE, LogisticMissingModel\n",
    "from src.utils import normalize"
   ]
  },
  {
   "cell_type": "code",
   "execution_count": 2,
   "metadata": {},
   "outputs": [],
   "source": [
    "encoder = nn.Sequential(nn.Linear(1000,50), nn.ReLU(), nn.Linear(50,10))\n",
    "decoder = nn.Sequential(nn.Linear(10,50), nn.ReLU(), nn.Linear(50,1000))\n",
    "missing_model = LogisticMissingModel()"
   ]
  },
  {
   "cell_type": "code",
   "execution_count": 3,
   "metadata": {},
   "outputs": [],
   "source": [
    "model = notMIWAE(encoder, decoder, missing_model, 1024, 10, 1024, 10, device = torch.device('cuda:0'))"
   ]
  },
  {
   "cell_type": "code",
   "execution_count": 6,
   "metadata": {},
   "outputs": [],
   "source": [
    "x = torch.randn(64, 1000)\n",
    "x = normalize(x)\n",
    "\n",
    "s = torch.randint(0, 2, (64, 1000)).float()"
   ]
  },
  {
   "cell_type": "code",
   "execution_count": 7,
   "metadata": {},
   "outputs": [],
   "source": [
    "from src.datasets import generate_synthetic_dataset\n",
    "\n",
    "data = generate_synthetic_dataset(N = 10, T = 1000, K = 20, clipping_model=\"soft\", W = 50, thresh = .3)"
   ]
  },
  {
   "cell_type": "code",
   "execution_count": 8,
   "metadata": {},
   "outputs": [
    {
     "data": {
      "text/plain": [
       "tensor([ 0.0000,  0.4431, -0.0000, -0.0000,  0.0000,  0.0000, -0.3279,  0.4592,\n",
       "        -0.0000, -0.0000, -0.4000,  0.0000,  0.0000, -0.0000, -0.3260,  0.0000,\n",
       "        -0.0000, -0.3872,  0.4732, -0.0000, -0.0000, -0.4794,  0.0000,  0.0000,\n",
       "        -0.3658, -0.0000, -0.0000, -0.3116, -0.0000,  0.5029, -0.6143,  0.0000,\n",
       "        -0.0000,  0.0000, -0.4056, -0.0000, -0.0000, -0.0000, -0.3188, -0.0000,\n",
       "         0.4271, -0.3848, -0.4794,  0.3576,  0.0000,  0.0000, -0.0000,  0.0000,\n",
       "        -0.0000, -0.3532,  0.0000, -0.0000, -0.6435, -0.0000,  0.4543, -0.3041,\n",
       "        -0.0000,  0.4182, -0.0000,  0.0000, -0.4943,  0.7572, -0.0000, -0.3038,\n",
       "        -0.4086,  0.0000,  0.0000, -0.5196,  0.3966, -0.0000,  0.0000,  0.0000,\n",
       "         0.4017, -0.0000, -0.0000,  0.0000, -0.0000, -0.0000,  0.0000,  0.0000,\n",
       "        -0.5240,  0.0000,  0.0000,  0.4265, -0.0000,  0.0000,  0.0000,  0.0000,\n",
       "         0.0000,  0.0000,  0.0000, -0.3628,  0.0000,  0.0000,  0.0000, -0.3928,\n",
       "         0.5077,  0.0000, -0.0000,  0.4357,  0.3667,  0.0000, -0.5809,  0.4122,\n",
       "         0.3505, -0.0000, -0.0000, -0.0000,  0.3827, -0.0000,  0.2935,  0.0000,\n",
       "        -0.0000,  0.0000,  0.0000,  0.3482, -0.0000, -0.0000,  0.0000, -0.2674,\n",
       "         0.0000,  0.0000,  0.5552, -0.6587,  0.4310,  0.2718,  0.0000,  0.0000,\n",
       "        -0.0000,  0.0000, -0.0000,  0.3926, -0.0000, -0.0000, -0.0000,  0.0000,\n",
       "         0.0000, -0.0000,  0.5154, -0.0000, -0.0000, -0.0000,  0.3282,  0.0000,\n",
       "        -0.0000, -0.5263,  0.4608, -0.0000, -0.0000,  0.0000, -0.0000, -0.0000,\n",
       "         0.0000,  0.2969, -0.2868,  0.0000, -0.0000,  0.0000, -0.0000, -0.0000,\n",
       "         0.0000, -0.5131, -0.0000,  0.0000,  0.3658, -0.3085, -0.0000, -0.0000,\n",
       "         0.0000,  0.0000, -0.4748,  0.0000, -0.3367, -0.3169,  0.3736, -0.5194,\n",
       "        -0.0000,  0.0000, -0.0000, -0.0000,  0.0000,  0.0000, -0.5044, -0.0000,\n",
       "        -0.0000,  0.4198, -0.4790, -0.0000, -0.0000, -0.3610,  0.0000, -0.0000,\n",
       "         0.0000, -0.4806,  0.0000, -0.0000,  0.0000, -0.0000, -0.0000,  0.5299,\n",
       "        -0.9144,  0.0000,  0.3259, -0.0000, -0.6169,  0.0000,  0.0000,  0.0000,\n",
       "        -0.3917,  0.0000,  0.0000, -0.0000,  0.0000,  0.0000, -0.0000, -0.3495,\n",
       "         0.0000, -0.0000, -0.0000,  0.0000, -0.0000,  0.0000, -0.2679,  0.5064,\n",
       "         0.0000, -0.3240, -0.3037,  0.6336, -0.0000,  0.0000,  0.0000, -0.0000,\n",
       "         0.0000,  0.0000,  0.3364,  0.0000, -0.0000,  0.4562,  0.0000,  0.0000,\n",
       "         0.0000,  0.0000, -0.0000, -0.4945,  0.4600,  0.3140, -0.0000, -0.4433,\n",
       "         0.5138,  0.5177, -0.0000,  0.3146,  0.3145, -0.0000, -0.3955,  0.6873,\n",
       "        -0.0000,  0.0000, -0.0000,  0.0000,  0.3211, -0.3188,  0.8128, -0.0000,\n",
       "         0.0000, -0.0000,  0.6404,  0.0000, -0.4333, -0.0000,  0.0000, -0.0000,\n",
       "        -0.0000,  0.3506, -0.0000, -0.0000,  0.0000,  0.4731, -0.0000, -0.0000,\n",
       "         0.0000, -0.3239,  0.0000,  0.0000, -0.0000, -0.4180, -0.0000,  0.0000,\n",
       "         0.3712, -0.3874,  0.0000,  0.0000,  0.0000, -0.0000,  0.0000,  0.0000,\n",
       "        -0.6236, -0.0000,  0.0000, -0.0000, -0.0000, -0.0000,  0.0000, -0.0000,\n",
       "         0.0000,  0.4795, -0.4671, -0.3321,  0.0000,  0.0000, -0.3268, -0.4267,\n",
       "         0.0000, -0.0000, -0.0000, -0.3412,  0.6093, -0.4249,  0.0000, -0.0000,\n",
       "         0.2933, -0.0000, -0.3547,  0.0000, -0.8472,  0.4149, -0.0000,  0.0000,\n",
       "        -0.3616, -0.0000,  0.4237, -0.0000,  0.0000, -0.0000, -0.0000, -0.0000,\n",
       "         0.0000, -0.0000, -0.0000, -0.2498, -0.0000,  0.0000, -0.0000,  0.0000,\n",
       "         0.0000, -0.3048, -0.0000,  0.5033, -0.0000, -0.4156, -0.0000,  0.0000,\n",
       "        -0.3203,  0.0000, -0.0000,  0.0000, -0.0000, -0.0000,  0.5717, -0.0000,\n",
       "         0.0000,  0.0000, -0.2830,  0.3143, -0.0000, -0.0000, -0.0000, -0.2940,\n",
       "         0.3082,  0.3002, -0.0000, -0.0000,  0.3729,  0.0000, -0.0000,  0.5202,\n",
       "        -0.0000,  0.2776, -0.3438,  0.3847, -0.0000,  0.0000,  0.0000, -0.0000,\n",
       "         0.0000,  0.0000,  0.8095, -0.7521,  0.3652,  0.0000,  0.0000,  0.0000,\n",
       "        -0.4159,  0.5161, -0.0000, -0.0000,  0.0000,  0.6288, -0.3939,  0.0000,\n",
       "         0.4182,  0.0000,  0.0000,  0.0000, -0.0000, -0.0000,  0.0000,  0.3988,\n",
       "         0.0000, -0.5768,  0.0000,  0.3999, -0.0000,  0.0000,  0.0000,  0.0000,\n",
       "         0.0000, -0.0000,  0.2577,  0.3005, -0.6412,  0.0000,  0.0000, -0.0000,\n",
       "         0.0000,  0.0000, -0.2683,  0.0000,  0.4602,  0.0000, -0.3492,  0.0000,\n",
       "         0.0000, -0.0000, -0.3270,  0.0000,  0.0000, -0.7550,  0.0000, -0.0000,\n",
       "         0.3143, -0.3106,  0.0000,  0.0000, -0.0000, -0.0000,  0.0000, -0.0000,\n",
       "        -1.0000,  0.5360,  0.0000, -0.3937, -0.2927,  0.0000,  0.0000, -0.6076,\n",
       "         0.4465, -0.0000,  0.0000, -0.7255,  0.0000,  0.0000, -0.3903, -0.3471,\n",
       "        -0.0000, -0.0000, -0.0000,  0.0000,  0.0000, -0.0000, -0.0000,  0.4344,\n",
       "        -0.0000, -0.5205, -0.0000, -0.0000, -0.3681, -0.0000,  0.0000, -0.0000,\n",
       "        -0.3001,  0.0000,  0.3227, -0.0000,  0.0000, -0.0000, -0.0000, -0.0000,\n",
       "         0.0000, -0.0000, -0.4057, -0.0000,  0.0000,  0.0000, -0.0000,  0.0000,\n",
       "         0.3525, -0.0000, -0.3146,  0.6269, -0.0000, -0.0000, -0.3957,  0.3483,\n",
       "        -0.0000, -0.0000,  0.0000, -0.0000,  0.0000,  0.0000,  0.5312, -0.0000,\n",
       "         0.0000, -0.0000,  0.3484, -0.0000, -0.3594,  0.5205, -0.4063,  0.0000,\n",
       "        -0.0000,  0.7812, -0.0000, -0.0000,  0.0000,  0.0000,  0.2902, -0.0000,\n",
       "         0.0000, -0.0000,  0.0000,  0.0000, -0.0000,  0.0000,  0.0000,  0.0000,\n",
       "         0.0000,  0.3732,  0.0000,  0.0000, -0.0000,  0.0000,  0.4506, -0.0000,\n",
       "        -0.0000,  0.0000, -0.0000,  0.4244,  0.0000,  0.3464, -0.0000,  0.0000,\n",
       "         0.4454,  0.0000, -0.0000,  0.0000,  0.0000, -0.0000,  0.0000,  0.3752,\n",
       "        -0.0000, -0.0000,  0.0000,  0.0000,  0.5548, -0.0000, -0.0000,  0.3269,\n",
       "        -0.2944,  0.3295, -0.0000, -0.0000, -0.0000,  0.3712, -0.0000,  0.0000,\n",
       "        -0.0000,  0.0000,  0.0000, -0.4399,  0.7700, -0.4140, -0.0000, -0.0000,\n",
       "         0.0000, -0.0000, -0.0000,  0.0000, -0.6807,  0.3465, -0.0000,  0.0000,\n",
       "        -0.0000, -0.5131,  0.3333,  0.0000, -0.4749,  0.0000,  0.0000, -0.5008,\n",
       "        -0.3320,  0.0000,  0.0000, -0.3071, -0.5114,  0.2981,  0.0000, -0.3819,\n",
       "         0.3104, -0.3643, -0.0000, -0.0000,  0.0000, -0.0000, -0.3044, -0.0000,\n",
       "        -0.0000,  0.0000, -0.3634,  0.3030,  0.0000, -0.6725,  0.0000,  0.0000,\n",
       "        -0.3103, -0.0000, -0.3234,  0.0000, -0.0000, -0.0000,  0.0000, -0.5852,\n",
       "         0.0000,  0.0000,  0.0000, -0.4635,  0.3538, -0.0000, -0.0000, -0.0000,\n",
       "        -0.0000,  0.3262, -0.8080,  0.0000,  0.0000,  0.4191, -0.4599,  0.0000,\n",
       "         0.5946, -0.5652,  0.5473, -0.0000,  0.0000, -0.4862,  0.0000,  0.4143,\n",
       "        -0.3354, -0.0000,  0.3619,  0.0000, -0.0000,  0.3627,  0.4733, -0.0000,\n",
       "        -0.3257,  0.0000,  0.4424, -0.0000, -0.3382,  0.2674,  0.0000,  0.0000,\n",
       "         0.0000,  0.4596, -0.0000,  0.0000,  0.4136, -0.0000,  0.0000, -0.0000,\n",
       "         0.0000, -0.3616,  0.0000,  0.4446, -0.0000, -0.0000,  0.0000,  0.3649,\n",
       "         0.0000, -0.0000,  0.0000,  0.0000, -0.3866,  0.4614, -0.0000,  0.0000,\n",
       "        -0.3955,  0.4164,  0.0000, -0.0000,  0.4777,  0.0000, -0.0000, -0.0000,\n",
       "         0.8109, -0.0000, -0.0000, -0.0000,  0.0000,  0.0000, -0.4178,  0.3474,\n",
       "        -0.0000,  0.3506, -0.0000,  0.5360,  0.0000, -0.0000,  0.0000, -0.0000,\n",
       "        -0.0000, -0.0000, -0.0000, -0.0000, -0.3862,  0.0000,  0.3052, -0.0000,\n",
       "        -0.0000,  0.0000, -0.0000,  0.0000, -0.0000, -0.0000, -0.0000, -0.0000,\n",
       "        -0.0000, -0.0000, -0.0000,  0.0000, -0.2451,  0.0000, -0.0000,  0.4496,\n",
       "        -0.5346, -0.0000, -0.0000,  0.0000, -0.0000, -0.5085,  0.0000, -0.0000,\n",
       "        -0.0000,  0.0000,  0.0000, -0.5727,  0.0000, -0.0000, -0.0000, -0.0000,\n",
       "        -0.0000, -0.0000, -0.3492,  0.0000, -0.0000,  0.0000, -0.6995,  0.0000,\n",
       "         0.0000,  0.0000, -0.0000, -0.0000,  0.0000, -0.0000,  0.0000, -0.2898,\n",
       "         0.0000, -0.5960,  0.2883, -0.0000, -0.0000,  0.5967, -0.3449, -0.0000,\n",
       "         0.0000,  0.3229,  0.0000, -0.0000, -0.0000,  0.0000,  0.0000, -0.3358,\n",
       "         0.0000, -0.0000, -0.0000,  0.0000,  0.0000,  0.0000, -0.0000,  0.0000,\n",
       "         0.0000, -0.0000,  0.0000,  0.0000, -0.0000, -0.7542,  0.9154,  0.0000,\n",
       "        -0.0000,  0.0000,  0.0000,  0.4696, -0.0000,  0.0000,  0.0000,  0.0000,\n",
       "        -0.0000,  0.3769,  0.0000, -0.0000,  0.0000,  0.0000,  0.0000,  0.0000,\n",
       "         0.5260, -0.0000,  0.0000, -0.0000,  0.8255, -0.3201, -0.0000,  0.0000,\n",
       "        -0.0000, -0.0000,  0.0000,  0.0000, -0.0000,  0.3683, -0.0000,  0.6555,\n",
       "        -0.0000,  0.0000,  0.3778, -0.5097,  0.0000,  0.0000,  0.0000, -0.7177,\n",
       "        -0.0000,  0.6495, -0.0000, -0.0000,  0.0000,  0.5029, -0.0000, -0.0000,\n",
       "         0.5471, -0.0000, -0.3476, -0.0000,  0.0000,  0.0000, -0.0000,  0.0000,\n",
       "        -0.0000,  0.0000, -0.0000,  0.7460, -0.5463, -0.0000,  0.0000,  0.0000,\n",
       "        -0.0000, -0.5194,  0.3436, -0.4404, -0.0000,  0.0000,  0.0000, -0.0000,\n",
       "        -0.0000,  0.0000, -0.0000,  0.0000, -0.0000, -0.3114, -0.5749,  0.0000,\n",
       "        -0.0000,  0.0000, -0.6628,  0.0000,  0.0000, -0.0000, -0.0000,  0.0000,\n",
       "         0.0000, -0.7102,  0.0000, -0.0000, -0.0000, -0.5581,  0.0000, -0.0000,\n",
       "        -0.0000,  0.5222, -0.3781,  0.0000, -0.3856,  0.4711, -0.0000, -0.5861,\n",
       "        -0.0000, -0.0000,  0.0000, -0.3410,  0.0000,  0.2812, -0.3804,  0.0000,\n",
       "         0.0000,  0.2901, -0.0000, -0.0000,  0.0000, -0.0000,  0.0000, -0.0000,\n",
       "        -0.0000, -0.0000,  0.4244, -0.0000,  0.0000,  0.0000, -0.0000,  0.3435,\n",
       "        -0.3355,  0.4827, -0.0000, -0.0000, -0.0000, -0.0000,  0.0000, -0.0000,\n",
       "         0.0000, -0.0000,  0.0000,  0.0000,  0.6592, -0.3762, -0.0000,  0.0000,\n",
       "         0.4442, -0.4225,  0.0000,  0.0000, -0.0000,  0.0000, -0.0000,  0.5478,\n",
       "         0.0000, -0.0000,  0.0000,  0.0000,  0.0000,  0.0000,  0.0000, -0.3108,\n",
       "         0.5358, -0.0000,  0.4287, -0.3245,  0.0000,  0.4493, -0.0000,  0.0000,\n",
       "         0.3037,  0.0000, -0.0000,  0.0000,  0.0000, -0.0000,  0.0000, -0.0000,\n",
       "         0.0000,  0.3004,  0.0000,  0.0000, -0.0000,  0.0000,  0.5001,  0.0000,\n",
       "        -0.3840,  0.0000,  0.0000, -0.0000,  0.0000, -0.0000,  0.5385, -0.8580])"
      ]
     },
     "execution_count": 8,
     "metadata": {},
     "output_type": "execute_result"
    }
   ],
   "source": [
    "data[0][0]"
   ]
  },
  {
   "cell_type": "code",
   "execution_count": 9,
   "metadata": {},
   "outputs": [],
   "source": [
    "from src.datasets import load_dataset\n",
    "import torch"
   ]
  },
  {
   "cell_type": "code",
   "execution_count": 15,
   "metadata": {},
   "outputs": [
    {
     "ename": "RuntimeError",
     "evalue": "Couldn't find appropriate backend to handle uri /users/eleves-b/2021/pierre.aguie/not-MIWAE-for-audio-inpainting/data/musicnet/s_train.pt and format None.",
     "output_type": "error",
     "traceback": [
      "\u001b[0;31m---------------------------------------------------------------------------\u001b[0m",
      "\u001b[0;31mRuntimeError\u001b[0m                              Traceback (most recent call last)",
      "Cell \u001b[0;32mIn[15], line 4\u001b[0m\n\u001b[1;32m      2\u001b[0m n_samples \u001b[38;5;241m=\u001b[39m \u001b[38;5;241m10000\u001b[39m\n\u001b[1;32m      3\u001b[0m window_size \u001b[38;5;241m=\u001b[39m \u001b[38;5;241m1024\u001b[39m\n\u001b[0;32m----> 4\u001b[0m dataset \u001b[38;5;241m=\u001b[39m \u001b[43mload_dataset\u001b[49m\u001b[43m(\u001b[49m\u001b[43mdataset_dir\u001b[49m\u001b[43m,\u001b[49m\u001b[43m \u001b[49m\u001b[43mn_samples\u001b[49m\u001b[43m,\u001b[49m\u001b[43m \u001b[49m\u001b[43mwindow_size\u001b[49m\u001b[43m)\u001b[49m\n\u001b[1;32m      5\u001b[0m torch\u001b[38;5;241m.\u001b[39msave(dataset\u001b[38;5;241m.\u001b[39mx,\u001b[38;5;124m\"\u001b[39m\u001b[38;5;124mx_train.pt\u001b[39m\u001b[38;5;124m\"\u001b[39m)\n\u001b[1;32m      6\u001b[0m torch\u001b[38;5;241m.\u001b[39msave(dataset\u001b[38;5;241m.\u001b[39ms,\u001b[38;5;124m\"\u001b[39m\u001b[38;5;124ms_train.pt\u001b[39m\u001b[38;5;124m\"\u001b[39m)\n",
      "File \u001b[0;32m~/not-MIWAE-for-audio-inpainting/src/datasets.py:86\u001b[0m, in \u001b[0;36mload_dataset\u001b[0;34m(dataset_dir, n_samples, window_size, target_sample_rate, clipping_model, W, thresh)\u001b[0m\n\u001b[1;32m     83\u001b[0m file_path \u001b[38;5;241m=\u001b[39m os\u001b[38;5;241m.\u001b[39mpath\u001b[38;5;241m.\u001b[39mjoin(dataset_dir, file)\n\u001b[1;32m     85\u001b[0m start_frame \u001b[38;5;241m=\u001b[39m random\u001b[38;5;241m.\u001b[39mrandint(\u001b[38;5;241m660000\u001b[39m,\u001b[38;5;241m1320000\u001b[39m)\n\u001b[0;32m---> 86\u001b[0m waveform, sample_rate \u001b[38;5;241m=\u001b[39m \u001b[43mtorchaudio\u001b[49m\u001b[38;5;241;43m.\u001b[39;49m\u001b[43mload\u001b[49m\u001b[43m(\u001b[49m\u001b[43mfile_path\u001b[49m\u001b[43m,\u001b[49m\u001b[43mframe_offset\u001b[49m\u001b[38;5;241;43m=\u001b[39;49m\u001b[43mstart_frame\u001b[49m\u001b[43m,\u001b[49m\u001b[43mnum_frames\u001b[49m\u001b[38;5;241;43m=\u001b[39;49m\u001b[38;5;241;43m440000\u001b[39;49m\u001b[43m)\u001b[49m\n\u001b[1;32m     87\u001b[0m \u001b[38;5;66;03m# We take ten seconds of audio\u001b[39;00m\n\u001b[1;32m     89\u001b[0m \u001b[38;5;28;01mif\u001b[39;00m sample_rate \u001b[38;5;241m!=\u001b[39m target_sample_rate:\n",
      "File \u001b[0;32m~/.local/lib/python3.9/site-packages/torchaudio/_backend/utils.py:204\u001b[0m, in \u001b[0;36mget_load_func.<locals>.load\u001b[0;34m(uri, frame_offset, num_frames, normalize, channels_first, format, buffer_size, backend)\u001b[0m\n\u001b[1;32m    118\u001b[0m \u001b[38;5;28;01mdef\u001b[39;00m \u001b[38;5;21mload\u001b[39m(\n\u001b[1;32m    119\u001b[0m     uri: Union[BinaryIO, \u001b[38;5;28mstr\u001b[39m, os\u001b[38;5;241m.\u001b[39mPathLike],\n\u001b[1;32m    120\u001b[0m     frame_offset: \u001b[38;5;28mint\u001b[39m \u001b[38;5;241m=\u001b[39m \u001b[38;5;241m0\u001b[39m,\n\u001b[0;32m   (...)\u001b[0m\n\u001b[1;32m    126\u001b[0m     backend: Optional[\u001b[38;5;28mstr\u001b[39m] \u001b[38;5;241m=\u001b[39m \u001b[38;5;28;01mNone\u001b[39;00m,\n\u001b[1;32m    127\u001b[0m ) \u001b[38;5;241m-\u001b[39m\u001b[38;5;241m>\u001b[39m Tuple[torch\u001b[38;5;241m.\u001b[39mTensor, \u001b[38;5;28mint\u001b[39m]:\n\u001b[1;32m    128\u001b[0m \u001b[38;5;250m    \u001b[39m\u001b[38;5;124;03m\"\"\"Load audio data from source.\u001b[39;00m\n\u001b[1;32m    129\u001b[0m \n\u001b[1;32m    130\u001b[0m \u001b[38;5;124;03m    By default (``normalize=True``, ``channels_first=True``), this function returns Tensor with\u001b[39;00m\n\u001b[0;32m   (...)\u001b[0m\n\u001b[1;32m    202\u001b[0m \u001b[38;5;124;03m            `[channel, time]` else `[time, channel]`.\u001b[39;00m\n\u001b[1;32m    203\u001b[0m \u001b[38;5;124;03m    \"\"\"\u001b[39;00m\n\u001b[0;32m--> 204\u001b[0m     backend \u001b[38;5;241m=\u001b[39m \u001b[43mdispatcher\u001b[49m\u001b[43m(\u001b[49m\u001b[43muri\u001b[49m\u001b[43m,\u001b[49m\u001b[43m \u001b[49m\u001b[38;5;28;43mformat\u001b[39;49m\u001b[43m,\u001b[49m\u001b[43m \u001b[49m\u001b[43mbackend\u001b[49m\u001b[43m)\u001b[49m\n\u001b[1;32m    205\u001b[0m     \u001b[38;5;28;01mreturn\u001b[39;00m backend\u001b[38;5;241m.\u001b[39mload(uri, frame_offset, num_frames, normalize, channels_first, \u001b[38;5;28mformat\u001b[39m, buffer_size)\n",
      "File \u001b[0;32m~/.local/lib/python3.9/site-packages/torchaudio/_backend/utils.py:116\u001b[0m, in \u001b[0;36mget_load_func.<locals>.dispatcher\u001b[0;34m(uri, format, backend_name)\u001b[0m\n\u001b[1;32m    114\u001b[0m     \u001b[38;5;28;01mif\u001b[39;00m backend\u001b[38;5;241m.\u001b[39mcan_decode(uri, \u001b[38;5;28mformat\u001b[39m):\n\u001b[1;32m    115\u001b[0m         \u001b[38;5;28;01mreturn\u001b[39;00m backend\n\u001b[0;32m--> 116\u001b[0m \u001b[38;5;28;01mraise\u001b[39;00m \u001b[38;5;167;01mRuntimeError\u001b[39;00m(\u001b[38;5;124mf\u001b[39m\u001b[38;5;124m\"\u001b[39m\u001b[38;5;124mCouldn\u001b[39m\u001b[38;5;124m'\u001b[39m\u001b[38;5;124mt find appropriate backend to handle uri \u001b[39m\u001b[38;5;132;01m{\u001b[39;00muri\u001b[38;5;132;01m}\u001b[39;00m\u001b[38;5;124m and format \u001b[39m\u001b[38;5;132;01m{\u001b[39;00m\u001b[38;5;28mformat\u001b[39m\u001b[38;5;132;01m}\u001b[39;00m\u001b[38;5;124m.\u001b[39m\u001b[38;5;124m\"\u001b[39m)\n",
      "\u001b[0;31mRuntimeError\u001b[0m: Couldn't find appropriate backend to handle uri /users/eleves-b/2021/pierre.aguie/not-MIWAE-for-audio-inpainting/data/musicnet/s_train.pt and format None."
     ]
    }
   ],
   "source": [
    "dataset_dir = \"/users/eleves-b/2021/pierre.aguie/not-MIWAE-for-audio-inpainting/data/musicnet\"\n",
    "n_samples = 10000\n",
    "window_size = 1024\n",
    "dataset = load_dataset(dataset_dir, n_samples, window_size)\n",
    "torch.save(dataset.x,\"x_train.pt\")\n",
    "torch.save(dataset.s,\"s_train.pt\")\n"
   ]
  },
  {
   "cell_type": "code",
   "execution_count": null,
   "metadata": {},
   "outputs": [],
   "source": [
    "# dataset_dir = \"/mnt/c/Users/atous/Documents/musicnet/musicnet/test_data\"\n",
    "n_samples = 1000\n",
    "window_size = 1024\n",
    "dataset = load_dataset(dataset_dir, n_samples, window_size)\n",
    "torch.save(dataset.x,\"x_val.pt\")\n",
    "torch.save(dataset.s,\"s_val.pt\")\n"
   ]
  },
  {
   "cell_type": "code",
   "execution_count": 20,
   "metadata": {},
   "outputs": [
    {
     "ename": "NameError",
     "evalue": "name 'dataset' is not defined",
     "output_type": "error",
     "traceback": [
      "\u001b[0;31m---------------------------------------------------------------------------\u001b[0m",
      "\u001b[0;31mNameError\u001b[0m                                 Traceback (most recent call last)",
      "Cell \u001b[0;32mIn[20], line 1\u001b[0m\n\u001b[0;32m----> 1\u001b[0m zero_mask \u001b[38;5;241m=\u001b[39m torch\u001b[38;5;241m.\u001b[39meq(\u001b[43mdataset\u001b[49m\u001b[38;5;241m.\u001b[39ms, \u001b[38;5;241m0\u001b[39m)\n\u001b[1;32m      3\u001b[0m \u001b[38;5;66;03m# Count the number of zeros\u001b[39;00m\n\u001b[1;32m      4\u001b[0m num_zeros \u001b[38;5;241m=\u001b[39m zero_mask\u001b[38;5;241m.\u001b[39msum()\u001b[38;5;241m.\u001b[39mitem()\n",
      "\u001b[0;31mNameError\u001b[0m: name 'dataset' is not defined"
     ]
    }
   ],
   "source": [
    "zero_mask = torch.eq(dataset.s, 0)\n",
    "\n",
    "# Count the number of zeros\n",
    "num_zeros = zero_mask.sum().item()"
   ]
  },
  {
   "cell_type": "code",
   "execution_count": 5,
   "metadata": {},
   "outputs": [
    {
     "name": "stdout",
     "output_type": "stream",
     "text": [
      "533\n"
     ]
    }
   ],
   "source": [
    "print(num_zeros)"
   ]
  },
  {
   "cell_type": "code",
   "execution_count": 4,
   "metadata": {},
   "outputs": [],
   "source": [
    "import torchaudio\n",
    "import matplotlib.pyplot as plt\n",
    "from src.datasets import ClippedDataset"
   ]
  },
  {
   "cell_type": "code",
   "execution_count": 5,
   "metadata": {},
   "outputs": [
    {
     "name": "stderr",
     "output_type": "stream",
     "text": [
      "/tmp/ipykernel_841397/3999070242.py:1: FutureWarning: You are using `torch.load` with `weights_only=False` (the current default value), which uses the default pickle module implicitly. It is possible to construct malicious pickle data which will execute arbitrary code during unpickling (See https://github.com/pytorch/pytorch/blob/main/SECURITY.md#untrusted-models for more details). In a future release, the default value for `weights_only` will be flipped to `True`. This limits the functions that could be executed during unpickling. Arbitrary objects will no longer be allowed to be loaded via this mode unless they are explicitly allowlisted by the user via `torch.serialization.add_safe_globals`. We recommend you start setting `weights_only=True` for any use case where you don't have full control of the loaded file. Please open an issue on GitHub for any issues related to this experimental feature.\n",
      "  x = torch.load(\"data/musicnet/x_train.pt\")\n",
      "/tmp/ipykernel_841397/3999070242.py:2: FutureWarning: You are using `torch.load` with `weights_only=False` (the current default value), which uses the default pickle module implicitly. It is possible to construct malicious pickle data which will execute arbitrary code during unpickling (See https://github.com/pytorch/pytorch/blob/main/SECURITY.md#untrusted-models for more details). In a future release, the default value for `weights_only` will be flipped to `True`. This limits the functions that could be executed during unpickling. Arbitrary objects will no longer be allowed to be loaded via this mode unless they are explicitly allowlisted by the user via `torch.serialization.add_safe_globals`. We recommend you start setting `weights_only=True` for any use case where you don't have full control of the loaded file. Please open an issue on GitHub for any issues related to this experimental feature.\n",
      "  s = torch.load(\"data/musicnet/s_train.pt\")\n"
     ]
    },
    {
     "data": {
      "image/png": "[encoded data removed]",
      "text/plain": [
       "<Figure size 640x480 with 1 Axes>"
      ]
     },
     "metadata": {},
     "output_type": "display_data"
    }
   ],
   "source": [
    "x = torch.load(\"data/musicnet/x_train.pt\")\n",
    "s = torch.load(\"data/musicnet/s_train.pt\")\n",
    "dataset = ClippedDataset(x, s)\n",
    "\n",
    "plt.plot(dataset.x[1000].t().numpy())\n",
    "plt.title(\"Normalized Waveform\")\n",
    "plt.xlabel(\"Samples\")\n",
    "plt.ylabel(\"Amplitude\")\n",
    "\n",
    "\n",
    "plt.show()\n"
   ]
  },
  {
   "cell_type": "code",
   "execution_count": 6,
   "metadata": {},
   "outputs": [
    {
     "name": "stdout",
     "output_type": "stream",
     "text": [
      "8 tensor(1020.)\n",
      "29 tensor(1023.)\n",
      "95 tensor(1023.)\n",
      "103 tensor(1013.)\n",
      "106 tensor(1009.)\n",
      "114 tensor(1022.)\n",
      "120 tensor(1022.)\n",
      "136 tensor(1011.)\n",
      "177 tensor(1022.)\n",
      "179 tensor(1023.)\n",
      "200 tensor(1008.)\n",
      "212 tensor(1023.)\n",
      "227 tensor(1023.)\n",
      "259 tensor(969.)\n",
      "267 tensor(1012.)\n",
      "271 tensor(1013.)\n",
      "278 tensor(1018.)\n",
      "294 tensor(1020.)\n",
      "336 tensor(956.)\n",
      "337 tensor(949.)\n",
      "388 tensor(1013.)\n",
      "416 tensor(1012.)\n",
      "418 tensor(1023.)\n",
      "437 tensor(1018.)\n",
      "442 tensor(1022.)\n",
      "443 tensor(1021.)\n",
      "444 tensor(1021.)\n",
      "481 tensor(1021.)\n",
      "492 tensor(970.)\n",
      "506 tensor(1023.)\n",
      "513 tensor(1022.)\n",
      "535 tensor(1020.)\n",
      "536 tensor(1019.)\n",
      "549 tensor(1020.)\n",
      "567 tensor(1018.)\n",
      "572 tensor(1023.)\n",
      "609 tensor(1023.)\n",
      "644 tensor(1021.)\n",
      "648 tensor(1021.)\n",
      "662 tensor(1000.)\n",
      "673 tensor(1014.)\n",
      "674 tensor(1022.)\n",
      "680 tensor(1022.)\n",
      "693 tensor(1023.)\n",
      "705 tensor(990.)\n",
      "709 tensor(1023.)\n",
      "731 tensor(1019.)\n",
      "733 tensor(1016.)\n",
      "736 tensor(1020.)\n",
      "751 tensor(1018.)\n",
      "759 tensor(1015.)\n",
      "790 tensor(1006.)\n",
      "796 tensor(1011.)\n",
      "803 tensor(1023.)\n",
      "824 tensor(1020.)\n",
      "827 tensor(1023.)\n",
      "850 tensor(1023.)\n",
      "852 tensor(1023.)\n",
      "855 tensor(947.)\n",
      "857 tensor(960.)\n",
      "874 tensor(1023.)\n",
      "891 tensor(1021.)\n",
      "911 tensor(1010.)\n",
      "916 tensor(1013.)\n",
      "918 tensor(1019.)\n",
      "954 tensor(1023.)\n",
      "993 tensor(1021.)\n",
      "1008 tensor(1008.)\n",
      "1026 tensor(1022.)\n",
      "1036 tensor(1023.)\n",
      "1051 tensor(1022.)\n",
      "1068 tensor(1021.)\n",
      "1092 tensor(1011.)\n",
      "1093 tensor(1021.)\n",
      "1111 tensor(1022.)\n",
      "1150 tensor(1022.)\n",
      "1154 tensor(1021.)\n",
      "1155 tensor(1021.)\n",
      "1156 tensor(1017.)\n",
      "1167 tensor(1021.)\n",
      "1170 tensor(1008.)\n",
      "1191 tensor(1015.)\n",
      "1224 tensor(1015.)\n",
      "1230 tensor(1020.)\n",
      "1243 tensor(1018.)\n",
      "1255 tensor(1022.)\n",
      "1261 tensor(1023.)\n",
      "1276 tensor(977.)\n",
      "1278 tensor(994.)\n",
      "1311 tensor(1022.)\n",
      "1319 tensor(1023.)\n",
      "1351 tensor(1017.)\n",
      "1354 tensor(1017.)\n",
      "1356 tensor(1023.)\n",
      "1358 tensor(1022.)\n",
      "1364 tensor(1018.)\n",
      "1400 tensor(1023.)\n",
      "1401 tensor(1018.)\n",
      "1414 tensor(1013.)\n",
      "1448 tensor(1021.)\n",
      "1449 tensor(1018.)\n",
      "1454 tensor(1011.)\n",
      "1468 tensor(1023.)\n",
      "1469 tensor(1021.)\n",
      "1483 tensor(999.)\n",
      "1492 tensor(995.)\n",
      "1535 tensor(1022.)\n",
      "1579 tensor(1023.)\n",
      "1582 tensor(1022.)\n",
      "1592 tensor(1015.)\n",
      "1601 tensor(1023.)\n",
      "1611 tensor(1022.)\n",
      "1629 tensor(1019.)\n",
      "1651 tensor(1023.)\n",
      "1667 tensor(1007.)\n",
      "1690 tensor(1023.)\n",
      "1694 tensor(1023.)\n",
      "1697 tensor(945.)\n",
      "1717 tensor(1019.)\n",
      "1719 tensor(1018.)\n",
      "1771 tensor(1013.)\n",
      "1790 tensor(1011.)\n",
      "1808 tensor(1023.)\n",
      "1820 tensor(1023.)\n",
      "1840 tensor(1023.)\n",
      "1841 tensor(1023.)\n",
      "1850 tensor(1020.)\n",
      "1885 tensor(1023.)\n",
      "1888 tensor(1023.)\n",
      "1902 tensor(1023.)\n",
      "1916 tensor(1023.)\n",
      "1932 tensor(1017.)\n",
      "1945 tensor(1023.)\n",
      "1950 tensor(1020.)\n",
      "1954 tensor(1023.)\n",
      "1981 tensor(1022.)\n",
      "1988 tensor(1007.)\n",
      "2002 tensor(1023.)\n",
      "2004 tensor(1015.)\n",
      "2005 tensor(1023.)\n",
      "2010 tensor(992.)\n",
      "2014 tensor(995.)\n",
      "2019 tensor(1023.)\n",
      "2098 tensor(1018.)\n",
      "2134 tensor(1015.)\n",
      "2140 tensor(1021.)\n",
      "2143 tensor(1020.)\n",
      "2166 tensor(1019.)\n",
      "2172 tensor(1022.)\n",
      "2197 tensor(1007.)\n",
      "2228 tensor(1021.)\n",
      "2267 tensor(1010.)\n",
      "2274 tensor(1012.)\n",
      "2299 tensor(1023.)\n",
      "2309 tensor(1016.)\n",
      "2310 tensor(1018.)\n",
      "2314 tensor(1019.)\n",
      "2339 tensor(1019.)\n",
      "2350 tensor(1022.)\n",
      "2368 tensor(1010.)\n",
      "2418 tensor(964.)\n",
      "2442 tensor(1021.)\n",
      "2443 tensor(1023.)\n",
      "2446 tensor(1021.)\n",
      "2449 tensor(1022.)\n",
      "2452 tensor(1012.)\n",
      "2486 tensor(1021.)\n",
      "2521 tensor(1004.)\n",
      "2546 tensor(1003.)\n",
      "2547 tensor(1022.)\n",
      "2567 tensor(1022.)\n",
      "2617 tensor(1019.)\n",
      "2652 tensor(1022.)\n",
      "2659 tensor(984.)\n",
      "2682 tensor(1023.)\n",
      "2741 tensor(1021.)\n",
      "2742 tensor(1009.)\n",
      "2759 tensor(1018.)\n",
      "2805 tensor(1023.)\n",
      "2811 tensor(1023.)\n",
      "2889 tensor(1022.)\n",
      "2910 tensor(1018.)\n",
      "2949 tensor(1021.)\n",
      "2968 tensor(1017.)\n",
      "2971 tensor(1023.)\n",
      "3031 tensor(1023.)\n",
      "3111 tensor(982.)\n",
      "3127 tensor(1019.)\n",
      "3131 tensor(1023.)\n",
      "3167 tensor(1022.)\n",
      "3184 tensor(1007.)\n",
      "3190 tensor(1011.)\n",
      "3195 tensor(1022.)\n",
      "3203 tensor(1021.)\n",
      "3221 tensor(1018.)\n",
      "3225 tensor(1022.)\n",
      "3227 tensor(1019.)\n",
      "3324 tensor(1020.)\n",
      "3349 tensor(982.)\n",
      "3366 tensor(1021.)\n",
      "3393 tensor(1023.)\n",
      "3431 tensor(759.)\n",
      "3434 tensor(1013.)\n",
      "3459 tensor(1023.)\n",
      "3490 tensor(1022.)\n",
      "3519 tensor(1015.)\n",
      "3541 tensor(1023.)\n",
      "3542 tensor(1019.)\n",
      "3558 tensor(993.)\n",
      "3570 tensor(1023.)\n",
      "3603 tensor(1023.)\n",
      "3609 tensor(1016.)\n",
      "3642 tensor(1023.)\n",
      "3696 tensor(1020.)\n",
      "3700 tensor(1016.)\n",
      "3703 tensor(994.)\n",
      "3729 tensor(930.)\n",
      "3744 tensor(1022.)\n",
      "3755 tensor(1023.)\n",
      "3855 tensor(1019.)\n",
      "3883 tensor(1013.)\n",
      "3897 tensor(1023.)\n",
      "3898 tensor(1021.)\n",
      "3941 tensor(1020.)\n",
      "3948 tensor(1019.)\n",
      "3957 tensor(1010.)\n",
      "3977 tensor(1023.)\n",
      "3980 tensor(1008.)\n",
      "3983 tensor(1022.)\n",
      "4005 tensor(1020.)\n",
      "4021 tensor(1023.)\n",
      "4029 tensor(1020.)\n",
      "4040 tensor(991.)\n",
      "4049 tensor(962.)\n",
      "4064 tensor(1019.)\n",
      "4073 tensor(1000.)\n",
      "4083 tensor(1022.)\n",
      "4120 tensor(964.)\n",
      "4150 tensor(993.)\n",
      "4159 tensor(1005.)\n",
      "4211 tensor(1023.)\n",
      "4212 tensor(1021.)\n",
      "4216 tensor(1023.)\n",
      "4218 tensor(1023.)\n",
      "4221 tensor(1012.)\n",
      "4222 tensor(1000.)\n",
      "4262 tensor(1023.)\n",
      "4280 tensor(1023.)\n",
      "4283 tensor(1023.)\n",
      "4284 tensor(1021.)\n",
      "4288 tensor(1021.)\n",
      "4290 tensor(1002.)\n",
      "4292 tensor(1006.)\n",
      "4293 tensor(994.)\n",
      "4305 tensor(994.)\n",
      "4318 tensor(1019.)\n",
      "4322 tensor(1018.)\n",
      "4342 tensor(1009.)\n",
      "4353 tensor(1005.)\n",
      "4381 tensor(1023.)\n",
      "4405 tensor(1008.)\n",
      "4425 tensor(1023.)\n",
      "4456 tensor(1018.)\n",
      "4459 tensor(1023.)\n",
      "4483 tensor(1011.)\n",
      "4485 tensor(1017.)\n",
      "4495 tensor(1019.)\n",
      "4539 tensor(1008.)\n",
      "4553 tensor(1012.)\n",
      "4554 tensor(1021.)\n",
      "4568 tensor(1022.)\n",
      "4606 tensor(1020.)\n",
      "4623 tensor(1022.)\n",
      "4658 tensor(1020.)\n",
      "4678 tensor(1010.)\n",
      "4680 tensor(1014.)\n",
      "4684 tensor(1018.)\n",
      "4703 tensor(996.)\n",
      "4726 tensor(1019.)\n",
      "4746 tensor(1016.)\n",
      "4749 tensor(1023.)\n",
      "4754 tensor(1010.)\n",
      "4756 tensor(1023.)\n",
      "4799 tensor(1023.)\n",
      "4820 tensor(1007.)\n",
      "4821 tensor(1023.)\n",
      "4830 tensor(1001.)\n",
      "4855 tensor(1021.)\n",
      "4880 tensor(1023.)\n",
      "4882 tensor(1022.)\n",
      "4887 tensor(1010.)\n",
      "4896 tensor(1020.)\n",
      "4917 tensor(1011.)\n",
      "4926 tensor(1020.)\n",
      "4935 tensor(1023.)\n",
      "4964 tensor(1019.)\n",
      "4972 tensor(1021.)\n",
      "4974 tensor(1021.)\n",
      "5006 tensor(1018.)\n",
      "5007 tensor(1023.)\n",
      "5079 tensor(1022.)\n",
      "5081 tensor(1021.)\n",
      "5106 tensor(1021.)\n",
      "5110 tensor(1023.)\n",
      "5111 tensor(1022.)\n",
      "5146 tensor(1023.)\n",
      "5149 tensor(1019.)\n",
      "5155 tensor(974.)\n",
      "5171 tensor(1023.)\n",
      "5172 tensor(1016.)\n",
      "5173 tensor(1023.)\n",
      "5203 tensor(975.)\n",
      "5209 tensor(1018.)\n",
      "5212 tensor(1022.)\n",
      "5232 tensor(1023.)\n",
      "5246 tensor(978.)\n",
      "5265 tensor(1016.)\n",
      "5272 tensor(1021.)\n",
      "5274 tensor(1014.)\n",
      "5311 tensor(1005.)\n",
      "5344 tensor(1023.)\n",
      "5352 tensor(1023.)\n",
      "5388 tensor(1019.)\n",
      "5390 tensor(977.)\n",
      "5404 tensor(1015.)\n",
      "5415 tensor(990.)\n",
      "5422 tensor(1020.)\n",
      "5429 tensor(1020.)\n",
      "5458 tensor(1016.)\n",
      "5462 tensor(1023.)\n",
      "5463 tensor(1023.)\n",
      "5548 tensor(1023.)\n",
      "5554 tensor(1023.)\n",
      "5569 tensor(1021.)\n",
      "5614 tensor(1018.)\n",
      "5615 tensor(997.)\n",
      "5616 tensor(1000.)\n",
      "5619 tensor(999.)\n",
      "5637 tensor(1021.)\n",
      "5686 tensor(1021.)\n",
      "5748 tensor(1019.)\n",
      "5769 tensor(1018.)\n",
      "5784 tensor(1022.)\n",
      "5873 tensor(1023.)\n",
      "5921 tensor(988.)\n",
      "5922 tensor(1012.)\n",
      "5925 tensor(1023.)\n",
      "5926 tensor(1020.)\n",
      "5928 tensor(946.)\n",
      "5939 tensor(1021.)\n",
      "5954 tensor(1023.)\n",
      "5959 tensor(1019.)\n",
      "5981 tensor(1016.)\n",
      "5983 tensor(1023.)\n",
      "5987 tensor(1022.)\n",
      "5988 tensor(1018.)\n",
      "5992 tensor(1018.)\n",
      "6030 tensor(1018.)\n",
      "6042 tensor(1023.)\n",
      "6045 tensor(1022.)\n",
      "6053 tensor(1014.)\n",
      "6058 tensor(1008.)\n",
      "6076 tensor(1022.)\n",
      "6078 tensor(1023.)\n",
      "6149 tensor(1021.)\n",
      "6177 tensor(1018.)\n",
      "6181 tensor(983.)\n",
      "6202 tensor(1010.)\n",
      "6211 tensor(1021.)\n",
      "6213 tensor(1019.)\n",
      "6223 tensor(994.)\n",
      "6228 tensor(989.)\n",
      "6234 tensor(1021.)\n",
      "6257 tensor(1014.)\n",
      "6335 tensor(1023.)\n",
      "6345 tensor(1020.)\n",
      "6358 tensor(1023.)\n",
      "6376 tensor(1016.)\n",
      "6381 tensor(1004.)\n",
      "6390 tensor(1022.)\n",
      "6412 tensor(1023.)\n",
      "6462 tensor(1016.)\n",
      "6487 tensor(1015.)\n",
      "6512 tensor(1016.)\n",
      "6519 tensor(993.)\n",
      "6522 tensor(1021.)\n",
      "6531 tensor(988.)\n",
      "6532 tensor(977.)\n",
      "6540 tensor(1010.)\n",
      "6547 tensor(1021.)\n",
      "6572 tensor(1023.)\n",
      "6651 tensor(1008.)\n",
      "6660 tensor(1016.)\n",
      "6669 tensor(1021.)\n",
      "6716 tensor(1022.)\n",
      "6731 tensor(1021.)\n",
      "6736 tensor(1019.)\n",
      "6743 tensor(1018.)\n",
      "6793 tensor(1021.)\n",
      "6794 tensor(1022.)\n",
      "6796 tensor(1022.)\n",
      "6797 tensor(1020.)\n",
      "6804 tensor(1011.)\n",
      "6850 tensor(1023.)\n",
      "6858 tensor(1007.)\n",
      "6873 tensor(1021.)\n",
      "6883 tensor(1021.)\n",
      "6894 tensor(1022.)\n",
      "6916 tensor(1022.)\n",
      "6945 tensor(1014.)\n",
      "6951 tensor(989.)\n",
      "6963 tensor(1021.)\n",
      "6964 tensor(1014.)\n",
      "6995 tensor(1023.)\n",
      "6997 tensor(1019.)\n",
      "7001 tensor(1021.)\n",
      "7031 tensor(1007.)\n",
      "7040 tensor(993.)\n",
      "7058 tensor(1023.)\n",
      "7059 tensor(1023.)\n",
      "7061 tensor(1005.)\n",
      "7078 tensor(1021.)\n",
      "7083 tensor(1019.)\n",
      "7099 tensor(900.)\n",
      "7112 tensor(1020.)\n",
      "7140 tensor(1018.)\n",
      "7181 tensor(994.)\n",
      "7200 tensor(1019.)\n",
      "7201 tensor(1023.)\n",
      "7221 tensor(1003.)\n",
      "7237 tensor(979.)\n",
      "7251 tensor(1012.)\n",
      "7252 tensor(1021.)\n",
      "7255 tensor(1021.)\n",
      "7257 tensor(1023.)\n",
      "7272 tensor(1009.)\n",
      "7285 tensor(1022.)\n",
      "7303 tensor(998.)\n",
      "7342 tensor(1013.)\n",
      "7346 tensor(1020.)\n",
      "7398 tensor(1007.)\n",
      "7422 tensor(1015.)\n",
      "7459 tensor(1023.)\n",
      "7502 tensor(1018.)\n",
      "7540 tensor(1010.)\n",
      "7553 tensor(1011.)\n",
      "7556 tensor(1023.)\n",
      "7561 tensor(1009.)\n",
      "7563 tensor(1012.)\n",
      "7570 tensor(1013.)\n",
      "7578 tensor(1023.)\n",
      "7582 tensor(1014.)\n",
      "7583 tensor(1019.)\n",
      "7584 tensor(1014.)\n",
      "7593 tensor(1004.)\n",
      "7614 tensor(1019.)\n",
      "7629 tensor(1014.)\n",
      "7678 tensor(1023.)\n",
      "7699 tensor(1023.)\n",
      "7703 tensor(1019.)\n",
      "7707 tensor(1014.)\n",
      "7709 tensor(1023.)\n",
      "7743 tensor(1020.)\n",
      "7753 tensor(1005.)\n",
      "7785 tensor(1013.)\n",
      "7847 tensor(988.)\n",
      "7895 tensor(1010.)\n",
      "7896 tensor(1018.)\n",
      "7897 tensor(1014.)\n",
      "7899 tensor(988.)\n",
      "7905 tensor(1016.)\n",
      "7910 tensor(966.)\n",
      "7959 tensor(1003.)\n",
      "7979 tensor(975.)\n",
      "7994 tensor(1021.)\n",
      "8026 tensor(998.)\n",
      "8030 tensor(1021.)\n",
      "8032 tensor(1022.)\n",
      "8038 tensor(1020.)\n",
      "8039 tensor(1023.)\n",
      "8050 tensor(1020.)\n",
      "8056 tensor(1019.)\n",
      "8061 tensor(1020.)\n",
      "8066 tensor(1020.)\n",
      "8069 tensor(1023.)\n",
      "8107 tensor(1021.)\n",
      "8125 tensor(1009.)\n",
      "8133 tensor(1020.)\n",
      "8134 tensor(1020.)\n",
      "8138 tensor(1018.)\n",
      "8140 tensor(1020.)\n",
      "8156 tensor(1021.)\n",
      "8161 tensor(1003.)\n",
      "8194 tensor(1019.)\n",
      "8217 tensor(1023.)\n",
      "8227 tensor(1020.)\n",
      "8237 tensor(998.)\n",
      "8243 tensor(1016.)\n",
      "8258 tensor(990.)\n",
      "8264 tensor(1015.)\n",
      "8298 tensor(1005.)\n",
      "8311 tensor(1017.)\n",
      "8381 tensor(1016.)\n",
      "8391 tensor(1021.)\n",
      "8393 tensor(1023.)\n",
      "8395 tensor(1023.)\n",
      "8399 tensor(1022.)\n",
      "8404 tensor(1023.)\n",
      "8405 tensor(1023.)\n",
      "8479 tensor(1023.)\n",
      "8510 tensor(1023.)\n",
      "8519 tensor(1023.)\n",
      "8567 tensor(1015.)\n",
      "8609 tensor(1021.)\n",
      "8623 tensor(1022.)\n",
      "8627 tensor(1022.)\n",
      "8646 tensor(1023.)\n",
      "8651 tensor(1023.)\n",
      "8656 tensor(1013.)\n",
      "8692 tensor(1005.)\n",
      "8720 tensor(1023.)\n",
      "8723 tensor(1014.)\n",
      "8725 tensor(1022.)\n",
      "8729 tensor(1017.)\n",
      "8747 tensor(1012.)\n",
      "8831 tensor(1023.)\n",
      "8841 tensor(1021.)\n",
      "8864 tensor(1023.)\n",
      "8869 tensor(1023.)\n",
      "8873 tensor(1022.)\n",
      "8877 tensor(1011.)\n",
      "8882 tensor(1014.)\n",
      "8885 tensor(1023.)\n",
      "8892 tensor(1020.)\n",
      "8901 tensor(992.)\n",
      "8910 tensor(1021.)\n",
      "8916 tensor(1016.)\n",
      "8938 tensor(1023.)\n",
      "8959 tensor(1016.)\n",
      "8974 tensor(1022.)\n",
      "9033 tensor(1023.)\n",
      "9039 tensor(1021.)\n",
      "9042 tensor(1022.)\n",
      "9051 tensor(1009.)\n",
      "9065 tensor(1023.)\n",
      "9140 tensor(1012.)\n",
      "9147 tensor(1014.)\n",
      "9174 tensor(1010.)\n",
      "9177 tensor(1006.)\n",
      "9178 tensor(1022.)\n",
      "9191 tensor(1019.)\n",
      "9196 tensor(1023.)\n",
      "9200 tensor(1015.)\n",
      "9211 tensor(1015.)\n",
      "9249 tensor(1023.)\n",
      "9271 tensor(1005.)\n",
      "9320 tensor(1014.)\n",
      "9323 tensor(1013.)\n",
      "9326 tensor(1012.)\n",
      "9334 tensor(1022.)\n",
      "9342 tensor(1021.)\n",
      "9345 tensor(1023.)\n",
      "9393 tensor(1017.)\n",
      "9400 tensor(1012.)\n",
      "9402 tensor(1020.)\n",
      "9404 tensor(1022.)\n",
      "9407 tensor(1022.)\n",
      "9411 tensor(1022.)\n",
      "9416 tensor(1023.)\n",
      "9421 tensor(1011.)\n",
      "9422 tensor(1023.)\n",
      "9425 tensor(1023.)\n",
      "9428 tensor(1022.)\n",
      "9439 tensor(1023.)\n",
      "9445 tensor(1018.)\n",
      "9479 tensor(1023.)\n",
      "9510 tensor(1023.)\n",
      "9511 tensor(1020.)\n",
      "9514 tensor(1023.)\n",
      "9518 tensor(1023.)\n",
      "9519 tensor(1020.)\n",
      "9522 tensor(1023.)\n",
      "9525 tensor(1015.)\n",
      "9540 tensor(1022.)\n",
      "9572 tensor(1021.)\n",
      "9584 tensor(1019.)\n",
      "9608 tensor(1022.)\n",
      "9612 tensor(1017.)\n",
      "9620 tensor(1023.)\n",
      "9622 tensor(1022.)\n",
      "9626 tensor(1005.)\n",
      "9627 tensor(1015.)\n",
      "9630 tensor(1017.)\n",
      "9633 tensor(1022.)\n",
      "9657 tensor(1023.)\n",
      "9676 tensor(1002.)\n",
      "9686 tensor(997.)\n",
      "9703 tensor(972.)\n",
      "9708 tensor(1022.)\n",
      "9746 tensor(1021.)\n",
      "9753 tensor(1008.)\n",
      "9771 tensor(1016.)\n",
      "9773 tensor(1023.)\n",
      "9813 tensor(1012.)\n",
      "9826 tensor(1011.)\n",
      "9834 tensor(974.)\n",
      "9837 tensor(1016.)\n",
      "9842 tensor(1022.)\n",
      "9882 tensor(1013.)\n",
      "9903 tensor(1022.)\n",
      "9962 tensor(1021.)\n",
      "9966 tensor(1021.)\n",
      "9968 tensor(1011.)\n",
      "9982 tensor(1021.)\n",
      "9991 tensor(1022.)\n",
      "9993 tensor(1016.)\n"
     ]
    }
   ],
   "source": [
    "for i in range(10000):\n",
    "    if dataset.s[i].sum() != 1024:\n",
    "        print(i, dataset.s[i].sum())\n"
   ]
  },
  {
   "cell_type": "code",
   "execution_count": 7,
   "metadata": {},
   "outputs": [],
   "source": [
    "import torch\n",
    "import torch.nn as nn\n",
    "\n",
    "from src.models import notMIWAE, LogisticMissingModel\n",
    "from src.utils import normalize\n",
    "x_train = torch.load(\"data/musicnet/x_train.pt\", weights_only=True)\n",
    "s_train = torch.load(\"data/musicnet/s_train.pt\", weights_only=True)\n",
    "x_val = torch.load(\"data/musicnet/x_val.pt\", weights_only=True)\n",
    "s_val = torch.load(\"data/musicnet/s_val.pt\", weights_only=True)\n"
   ]
  },
  {
   "cell_type": "code",
   "execution_count": 8,
   "metadata": {},
   "outputs": [
    {
     "name": "stderr",
     "output_type": "stream",
     "text": [
      "Epoch 1/100: 100%|██████████| 157/157 [00:04<00:00, 38.47batch/s]\n"
     ]
    },
    {
     "name": "stdout",
     "output_type": "stream",
     "text": [
      "Training loss for epoch 0 is -529.3960943525764\n",
      "Validation loss / Mean Squared Error for epoch 0 is -678.7061138153076/0.00048353191232308745\n"
     ]
    },
    {
     "name": "stderr",
     "output_type": "stream",
     "text": [
      "Epoch 2/100: 100%|██████████| 157/157 [00:03<00:00, 41.63batch/s]\n"
     ]
    },
    {
     "name": "stdout",
     "output_type": "stream",
     "text": [
      "Training loss for epoch 1 is -676.815808727483\n",
      "Validation loss / Mean Squared Error for epoch 1 is -705.2940349578857/0.000508641533087939\n"
     ]
    },
    {
     "name": "stderr",
     "output_type": "stream",
     "text": [
      "Epoch 3/100: 100%|██████████| 157/157 [00:03<00:00, 41.62batch/s]\n"
     ]
    },
    {
     "name": "stdout",
     "output_type": "stream",
     "text": [
      "Training loss for epoch 2 is -687.9141198419461\n",
      "Validation loss / Mean Squared Error for epoch 2 is -714.9178447723389/0.0005043775890953839\n"
     ]
    },
    {
     "name": "stderr",
     "output_type": "stream",
     "text": [
      "Epoch 4/100: 100%|██████████| 157/157 [00:03<00:00, 41.65batch/s]\n"
     ]
    },
    {
     "name": "stdout",
     "output_type": "stream",
     "text": [
      "Training loss for epoch 3 is -694.1518438059813\n",
      "Validation loss / Mean Squared Error for epoch 3 is -734.4324989318848/0.00047891002031974494\n"
     ]
    },
    {
     "name": "stderr",
     "output_type": "stream",
     "text": [
      "Epoch 5/100: 100%|██████████| 157/157 [00:03<00:00, 41.61batch/s]\n"
     ]
    },
    {
     "name": "stdout",
     "output_type": "stream",
     "text": [
      "Training loss for epoch 4 is -699.84829362031\n",
      "Validation loss / Mean Squared Error for epoch 4 is -742.7980632781982/0.0005173833924345672\n"
     ]
    },
    {
     "name": "stderr",
     "output_type": "stream",
     "text": [
      "Epoch 6/100: 100%|██████████| 157/157 [00:03<00:00, 41.66batch/s]\n"
     ]
    },
    {
     "name": "stdout",
     "output_type": "stream",
     "text": [
      "Training loss for epoch 5 is -699.5618050933643\n",
      "Validation loss / Mean Squared Error for epoch 5 is -744.2667388916016/0.0005263283383101225\n"
     ]
    },
    {
     "name": "stderr",
     "output_type": "stream",
     "text": [
      "Epoch 7/100: 100%|██████████| 157/157 [00:03<00:00, 41.66batch/s]\n"
     ]
    },
    {
     "name": "stdout",
     "output_type": "stream",
     "text": [
      "Training loss for epoch 6 is -707.8527797042943\n",
      "Validation loss / Mean Squared Error for epoch 6 is -744.4209728240967/0.0005142553127370775\n"
     ]
    },
    {
     "name": "stderr",
     "output_type": "stream",
     "text": [
      "Epoch 8/100: 100%|██████████| 157/157 [00:03<00:00, 41.68batch/s]\n"
     ]
    },
    {
     "name": "stdout",
     "output_type": "stream",
     "text": [
      "Training loss for epoch 7 is -704.8306620409534\n",
      "Validation loss / Mean Squared Error for epoch 7 is -749.6298141479492/0.0004979460500180721\n"
     ]
    },
    {
     "name": "stderr",
     "output_type": "stream",
     "text": [
      "Epoch 9/100: 100%|██████████| 157/157 [00:03<00:00, 41.66batch/s]\n"
     ]
    },
    {
     "name": "stdout",
     "output_type": "stream",
     "text": [
      "Training loss for epoch 8 is -711.2050388603453\n",
      "Validation loss / Mean Squared Error for epoch 8 is -752.7610397338867/0.00051513547077775\n"
     ]
    },
    {
     "name": "stderr",
     "output_type": "stream",
     "text": [
      "Epoch 10/100: 100%|██████████| 157/157 [00:03<00:00, 41.72batch/s]\n"
     ]
    },
    {
     "name": "stdout",
     "output_type": "stream",
     "text": [
      "Training loss for epoch 9 is -712.6234439922746\n",
      "Validation loss / Mean Squared Error for epoch 9 is -758.2493095397949/0.0005333394510671496\n"
     ]
    },
    {
     "name": "stderr",
     "output_type": "stream",
     "text": [
      "Epoch 11/100: 100%|██████████| 157/157 [00:03<00:00, 41.71batch/s]\n"
     ]
    },
    {
     "name": "stdout",
     "output_type": "stream",
     "text": [
      "Training loss for epoch 10 is -719.5250918637415\n",
      "Validation loss / Mean Squared Error for epoch 10 is -772.4828834533691/0.000506741227582097\n"
     ]
    },
    {
     "name": "stderr",
     "output_type": "stream",
     "text": [
      "Epoch 12/100: 100%|██████████| 157/157 [00:03<00:00, 41.72batch/s]\n"
     ]
    },
    {
     "name": "stdout",
     "output_type": "stream",
     "text": [
      "Training loss for epoch 11 is -725.3261747906922\n",
      "Validation loss / Mean Squared Error for epoch 11 is -782.8234100341797/0.00047344795893877745\n"
     ]
    },
    {
     "name": "stderr",
     "output_type": "stream",
     "text": [
      "Epoch 13/100: 100%|██████████| 157/157 [00:03<00:00, 41.71batch/s]\n"
     ]
    },
    {
     "name": "stdout",
     "output_type": "stream",
     "text": [
      "Training loss for epoch 12 is -743.7388882971113\n",
      "Validation loss / Mean Squared Error for epoch 12 is -792.6224040985107/0.0004904044908471406\n"
     ]
    },
    {
     "name": "stderr",
     "output_type": "stream",
     "text": [
      "Epoch 14/100: 100%|██████████| 157/157 [00:03<00:00, 41.67batch/s]\n"
     ]
    },
    {
     "name": "stdout",
     "output_type": "stream",
     "text": [
      "Training loss for epoch 13 is -757.2440815336386\n",
      "Validation loss / Mean Squared Error for epoch 13 is -808.7258434295654/0.0004364624619483948\n"
     ]
    },
    {
     "name": "stderr",
     "output_type": "stream",
     "text": [
      "Epoch 15/100: 100%|██████████| 157/157 [00:03<00:00, 41.73batch/s]\n"
     ]
    },
    {
     "name": "stdout",
     "output_type": "stream",
     "text": [
      "Training loss for epoch 14 is -768.0725424213774\n",
      "Validation loss / Mean Squared Error for epoch 14 is -808.9294986724854/0.0005112629733048379\n"
     ]
    },
    {
     "name": "stderr",
     "output_type": "stream",
     "text": [
      "Epoch 16/100: 100%|██████████| 157/157 [00:03<00:00, 41.73batch/s]\n"
     ]
    },
    {
     "name": "stdout",
     "output_type": "stream",
     "text": [
      "Training loss for epoch 15 is -777.3363066266297\n",
      "Validation loss / Mean Squared Error for epoch 15 is -826.5381965637207/0.000487200275529176\n"
     ]
    },
    {
     "name": "stderr",
     "output_type": "stream",
     "text": [
      "Epoch 17/100: 100%|██████████| 157/157 [00:03<00:00, 41.73batch/s]\n"
     ]
    },
    {
     "name": "stdout",
     "output_type": "stream",
     "text": [
      "Training loss for epoch 16 is -794.5802592866739\n",
      "Validation loss / Mean Squared Error for epoch 16 is -837.4434356689453/0.0004861792258452624\n"
     ]
    },
    {
     "name": "stderr",
     "output_type": "stream",
     "text": [
      "Epoch 18/100: 100%|██████████| 157/157 [00:03<00:00, 41.72batch/s]\n"
     ]
    },
    {
     "name": "stdout",
     "output_type": "stream",
     "text": [
      "Training loss for epoch 17 is -813.7760915573995\n",
      "Validation loss / Mean Squared Error for epoch 17 is -851.3396530151367/0.0004446110688149929\n"
     ]
    },
    {
     "name": "stderr",
     "output_type": "stream",
     "text": [
      "Epoch 19/100: 100%|██████████| 157/157 [00:03<00:00, 41.68batch/s]\n"
     ]
    },
    {
     "name": "stdout",
     "output_type": "stream",
     "text": [
      "Training loss for epoch 18 is -831.5906640313992\n",
      "Validation loss / Mean Squared Error for epoch 18 is -843.7485046386719/0.00046615401515737176\n"
     ]
    },
    {
     "name": "stderr",
     "output_type": "stream",
     "text": [
      "Epoch 20/100:  96%|█████████▌| 150/157 [00:03<00:00, 41.49batch/s]\n"
     ]
    },
    {
     "ename": "KeyboardInterrupt",
     "evalue": "",
     "output_type": "error",
     "traceback": [
      "\u001b[0;31m---------------------------------------------------------------------------\u001b[0m",
      "\u001b[0;31mKeyboardInterrupt\u001b[0m                         Traceback (most recent call last)",
      "Cell \u001b[0;32mIn[8], line 20\u001b[0m\n\u001b[1;32m     18\u001b[0m \u001b[38;5;28;01mfrom\u001b[39;00m \u001b[38;5;21;01msrc\u001b[39;00m\u001b[38;5;21;01m.\u001b[39;00m\u001b[38;5;21;01mtrain_test\u001b[39;00m \u001b[38;5;28;01mimport\u001b[39;00m \u001b[38;5;241m*\u001b[39m\n\u001b[1;32m     19\u001b[0m optimizer \u001b[38;5;241m=\u001b[39m torch\u001b[38;5;241m.\u001b[39moptim\u001b[38;5;241m.\u001b[39mAdam(\u001b[38;5;28mfilter\u001b[39m(\u001b[38;5;28;01mlambda\u001b[39;00m p: p\u001b[38;5;241m.\u001b[39mrequires_grad, model\u001b[38;5;241m.\u001b[39mparameters()), lr\u001b[38;5;241m=\u001b[39m\u001b[38;5;241m0.001\u001b[39m)\n\u001b[0;32m---> 20\u001b[0m \u001b[43mtrain\u001b[49m\u001b[43m(\u001b[49m\u001b[43mmodel\u001b[49m\u001b[43m,\u001b[49m\u001b[43moptimizer\u001b[49m\u001b[43m,\u001b[49m\u001b[43mtrain_loader\u001b[49m\u001b[43m,\u001b[49m\u001b[43mval_loader\u001b[49m\u001b[43m,\u001b[49m\u001b[43mdevice\u001b[49m\u001b[43m,\u001b[49m\u001b[38;5;241;43m100\u001b[39;49m\u001b[43m,\u001b[49m\u001b[38;5;241;43m5\u001b[39;49m\u001b[43m,\u001b[49m\u001b[38;5;241;43m1\u001b[39;49m\u001b[43m)\u001b[49m\n",
      "File \u001b[0;32m~/not-MIWAE-for-audio-inpainting/src/train_test.py:48\u001b[0m, in \u001b[0;36mtrain\u001b[0;34m(model, optimizer, train_loader, val_loader, device, n_epochs, K, n_epochs_val, log_dir)\u001b[0m\n\u001b[1;32m     46\u001b[0m os\u001b[38;5;241m.\u001b[39mmakedirs(\u001b[38;5;124m\"\u001b[39m\u001b[38;5;124mcheckpoints\u001b[39m\u001b[38;5;124m\"\u001b[39m, exist_ok\u001b[38;5;241m=\u001b[39m\u001b[38;5;28;01mTrue\u001b[39;00m)\n\u001b[1;32m     47\u001b[0m \u001b[38;5;28;01mfor\u001b[39;00m epoch \u001b[38;5;129;01min\u001b[39;00m \u001b[38;5;28mrange\u001b[39m(n_epochs):\n\u001b[0;32m---> 48\u001b[0m     train_loss \u001b[38;5;241m=\u001b[39m \u001b[43mtrain_epoch\u001b[49m\u001b[43m(\u001b[49m\u001b[43mmodel\u001b[49m\u001b[43m,\u001b[49m\u001b[43m \u001b[49m\u001b[43moptimizer\u001b[49m\u001b[43m,\u001b[49m\u001b[43m \u001b[49m\u001b[43mtrain_loader\u001b[49m\u001b[43m,\u001b[49m\u001b[43m \u001b[49m\u001b[43mdevice\u001b[49m\u001b[43m,\u001b[49m\u001b[43m \u001b[49m\u001b[43mepoch\u001b[49m\u001b[43m,\u001b[49m\u001b[43m \u001b[49m\u001b[43mn_epochs\u001b[49m\u001b[43m,\u001b[49m\u001b[43m \u001b[49m\u001b[43mK\u001b[49m\u001b[43m)\u001b[49m\n\u001b[1;32m     49\u001b[0m     \u001b[38;5;28mprint\u001b[39m(\u001b[38;5;124mf\u001b[39m\u001b[38;5;124m\"\u001b[39m\u001b[38;5;124mTraining loss for epoch \u001b[39m\u001b[38;5;132;01m{\u001b[39;00mepoch\u001b[38;5;132;01m}\u001b[39;00m\u001b[38;5;124m is \u001b[39m\u001b[38;5;132;01m{\u001b[39;00mtrain_loss\u001b[38;5;132;01m}\u001b[39;00m\u001b[38;5;124m\"\u001b[39m)\n\u001b[1;32m     50\u001b[0m     writer\u001b[38;5;241m.\u001b[39madd_scalar(\u001b[38;5;124m\"\u001b[39m\u001b[38;5;124mLoss/Train\u001b[39m\u001b[38;5;124m\"\u001b[39m, train_loss, epoch)\n",
      "File \u001b[0;32m~/not-MIWAE-for-audio-inpainting/src/train_test.py:21\u001b[0m, in \u001b[0;36mtrain_epoch\u001b[0;34m(model, optimizer, train_loader, device, epoch, n_epochs, K)\u001b[0m\n\u001b[1;32m     19\u001b[0m x, s \u001b[38;5;241m=\u001b[39m x\u001b[38;5;241m.\u001b[39mto(device), s\u001b[38;5;241m.\u001b[39mto(device)\n\u001b[1;32m     20\u001b[0m optimizer\u001b[38;5;241m.\u001b[39mzero_grad()\n\u001b[0;32m---> 21\u001b[0m loss \u001b[38;5;241m=\u001b[39m \u001b[43mmodel\u001b[49m\u001b[38;5;241;43m.\u001b[39;49m\u001b[43mloss\u001b[49m\u001b[43m(\u001b[49m\u001b[43mx\u001b[49m\u001b[43m,\u001b[49m\u001b[43m \u001b[49m\u001b[43ms\u001b[49m\u001b[43m,\u001b[49m\u001b[43m \u001b[49m\u001b[43mK\u001b[49m\u001b[43m)\u001b[49m\n\u001b[1;32m     22\u001b[0m loss\u001b[38;5;241m.\u001b[39mbackward()\n\u001b[1;32m     23\u001b[0m mean_loss \u001b[38;5;241m+\u001b[39m\u001b[38;5;241m=\u001b[39m loss\u001b[38;5;241m.\u001b[39mitem() \n",
      "File \u001b[0;32m~/not-MIWAE-for-audio-inpainting/src/models.py:130\u001b[0m, in \u001b[0;36mnotMIWAE.loss\u001b[0;34m(self, x, s, K)\u001b[0m\n\u001b[1;32m    115\u001b[0m \u001b[38;5;28;01mdef\u001b[39;00m \u001b[38;5;21mloss\u001b[39m(\u001b[38;5;28mself\u001b[39m, x : torch\u001b[38;5;241m.\u001b[39mTensor, s : torch\u001b[38;5;241m.\u001b[39mTensor, K : \u001b[38;5;28mint\u001b[39m \u001b[38;5;241m=\u001b[39m \u001b[38;5;241m1\u001b[39m) \u001b[38;5;241m-\u001b[39m\u001b[38;5;241m>\u001b[39m torch\u001b[38;5;241m.\u001b[39mTensor:\n\u001b[1;32m    116\u001b[0m \u001b[38;5;250m    \u001b[39m\u001b[38;5;124;03m\"\"\"\u001b[39;00m\n\u001b[1;32m    117\u001b[0m \u001b[38;5;124;03m    Computes the not-MIWAE loss\u001b[39;00m\n\u001b[1;32m    118\u001b[0m \u001b[38;5;124;03m    \u001b[39;00m\n\u001b[0;32m   (...)\u001b[0m\n\u001b[1;32m    127\u001b[0m \u001b[38;5;124;03m    - loss: Tensor of shape (1) with the not-MIWAE loss\u001b[39;00m\n\u001b[1;32m    128\u001b[0m \u001b[38;5;124;03m    \"\"\"\u001b[39;00m\n\u001b[0;32m--> 130\u001b[0m     log_p_x_given_z, log_q_z_given_x, log_p_s_given_x, log_p_z, _ \u001b[38;5;241m=\u001b[39m \u001b[38;5;28;43mself\u001b[39;49m\u001b[38;5;241;43m.\u001b[39;49m\u001b[43mlog_probabilities_and_missing_data\u001b[49m\u001b[43m(\u001b[49m\u001b[43mx\u001b[49m\u001b[43m,\u001b[49m\u001b[43m \u001b[49m\u001b[43ms\u001b[49m\u001b[43m,\u001b[49m\u001b[43m \u001b[49m\u001b[43mK\u001b[49m\u001b[43m)\u001b[49m\n\u001b[1;32m    132\u001b[0m     loss \u001b[38;5;241m=\u001b[39m \u001b[38;5;241m-\u001b[39mtorch\u001b[38;5;241m.\u001b[39mmean(torch\u001b[38;5;241m.\u001b[39mlogsumexp(log_p_x_given_z \u001b[38;5;241m+\u001b[39m log_p_s_given_x \u001b[38;5;241m-\u001b[39m log_q_z_given_x \u001b[38;5;241m+\u001b[39m log_p_z \u001b[38;5;241m-\u001b[39m np\u001b[38;5;241m.\u001b[39mlog(K), dim \u001b[38;5;241m=\u001b[39m \u001b[38;5;241m0\u001b[39m))\n\u001b[1;32m    134\u001b[0m     \u001b[38;5;28;01mreturn\u001b[39;00m loss\n",
      "File \u001b[0;32m~/not-MIWAE-for-audio-inpainting/src/models.py:194\u001b[0m, in \u001b[0;36mnotMIWAE.log_probabilities_and_missing_data\u001b[0;34m(self, x, s, K)\u001b[0m\n\u001b[1;32m    192\u001b[0m mu_x \u001b[38;5;241m=\u001b[39m \u001b[38;5;28mself\u001b[39m\u001b[38;5;241m.\u001b[39mp_mu(h)\n\u001b[1;32m    193\u001b[0m logvar_x \u001b[38;5;241m=\u001b[39m \u001b[38;5;28mself\u001b[39m\u001b[38;5;241m.\u001b[39mp_logvar(h)\n\u001b[0;32m--> 194\u001b[0m p_x_given_z \u001b[38;5;241m=\u001b[39m Independent(\u001b[43mNormal\u001b[49m\u001b[43m(\u001b[49m\u001b[43mmu_x\u001b[49m\u001b[43m,\u001b[49m\u001b[43m \u001b[49m\u001b[43mtorch\u001b[49m\u001b[38;5;241;43m.\u001b[39;49m\u001b[43mexp\u001b[49m\u001b[43m(\u001b[49m\u001b[38;5;241;43m0.5\u001b[39;49m\u001b[43m \u001b[49m\u001b[38;5;241;43m*\u001b[39;49m\u001b[43m \u001b[49m\u001b[43mlogvar_x\u001b[49m\u001b[43m)\u001b[49m\u001b[43m)\u001b[49m,\u001b[38;5;241m1\u001b[39m)\n\u001b[1;32m    196\u001b[0m \u001b[38;5;66;03m# Sample missing data\u001b[39;00m\n\u001b[1;32m    197\u001b[0m x_missing \u001b[38;5;241m=\u001b[39m p_x_given_z\u001b[38;5;241m.\u001b[39mrsample() \u001b[38;5;241m*\u001b[39m (\u001b[38;5;241m1\u001b[39m \u001b[38;5;241m-\u001b[39m s)\n",
      "File \u001b[0;32m~/.local/lib/python3.9/site-packages/torch/distributions/normal.py:59\u001b[0m, in \u001b[0;36mNormal.__init__\u001b[0;34m(self, loc, scale, validate_args)\u001b[0m\n\u001b[1;32m     57\u001b[0m \u001b[38;5;28;01melse\u001b[39;00m:\n\u001b[1;32m     58\u001b[0m     batch_shape \u001b[38;5;241m=\u001b[39m \u001b[38;5;28mself\u001b[39m\u001b[38;5;241m.\u001b[39mloc\u001b[38;5;241m.\u001b[39msize()\n\u001b[0;32m---> 59\u001b[0m \u001b[38;5;28;43msuper\u001b[39;49m\u001b[43m(\u001b[49m\u001b[43m)\u001b[49m\u001b[38;5;241;43m.\u001b[39;49m\u001b[38;5;21;43m__init__\u001b[39;49m\u001b[43m(\u001b[49m\u001b[43mbatch_shape\u001b[49m\u001b[43m,\u001b[49m\u001b[43m \u001b[49m\u001b[43mvalidate_args\u001b[49m\u001b[38;5;241;43m=\u001b[39;49m\u001b[43mvalidate_args\u001b[49m\u001b[43m)\u001b[49m\n",
      "File \u001b[0;32m~/.local/lib/python3.9/site-packages/torch/distributions/distribution.py:70\u001b[0m, in \u001b[0;36mDistribution.__init__\u001b[0;34m(self, batch_shape, event_shape, validate_args)\u001b[0m\n\u001b[1;32m     68\u001b[0m         value \u001b[38;5;241m=\u001b[39m \u001b[38;5;28mgetattr\u001b[39m(\u001b[38;5;28mself\u001b[39m, param)\n\u001b[1;32m     69\u001b[0m         valid \u001b[38;5;241m=\u001b[39m constraint\u001b[38;5;241m.\u001b[39mcheck(value)\n\u001b[0;32m---> 70\u001b[0m         \u001b[38;5;28;01mif\u001b[39;00m \u001b[38;5;129;01mnot\u001b[39;00m valid\u001b[38;5;241m.\u001b[39mall():\n\u001b[1;32m     71\u001b[0m             \u001b[38;5;28;01mraise\u001b[39;00m \u001b[38;5;167;01mValueError\u001b[39;00m(\n\u001b[1;32m     72\u001b[0m                 \u001b[38;5;124mf\u001b[39m\u001b[38;5;124m\"\u001b[39m\u001b[38;5;124mExpected parameter \u001b[39m\u001b[38;5;132;01m{\u001b[39;00mparam\u001b[38;5;132;01m}\u001b[39;00m\u001b[38;5;124m \u001b[39m\u001b[38;5;124m\"\u001b[39m\n\u001b[1;32m     73\u001b[0m                 \u001b[38;5;124mf\u001b[39m\u001b[38;5;124m\"\u001b[39m\u001b[38;5;124m(\u001b[39m\u001b[38;5;132;01m{\u001b[39;00m\u001b[38;5;28mtype\u001b[39m(value)\u001b[38;5;241m.\u001b[39m\u001b[38;5;18m__name__\u001b[39m\u001b[38;5;132;01m}\u001b[39;00m\u001b[38;5;124m of shape \u001b[39m\u001b[38;5;132;01m{\u001b[39;00m\u001b[38;5;28mtuple\u001b[39m(value\u001b[38;5;241m.\u001b[39mshape)\u001b[38;5;132;01m}\u001b[39;00m\u001b[38;5;124m) \u001b[39m\u001b[38;5;124m\"\u001b[39m\n\u001b[0;32m   (...)\u001b[0m\n\u001b[1;32m     76\u001b[0m                 \u001b[38;5;124mf\u001b[39m\u001b[38;5;124m\"\u001b[39m\u001b[38;5;124mbut found invalid values:\u001b[39m\u001b[38;5;130;01m\\n\u001b[39;00m\u001b[38;5;132;01m{\u001b[39;00mvalue\u001b[38;5;132;01m}\u001b[39;00m\u001b[38;5;124m\"\u001b[39m\n\u001b[1;32m     77\u001b[0m             )\n\u001b[1;32m     78\u001b[0m \u001b[38;5;28msuper\u001b[39m()\u001b[38;5;241m.\u001b[39m\u001b[38;5;21m__init__\u001b[39m()\n",
      "\u001b[0;31mKeyboardInterrupt\u001b[0m: "
     ]
    }
   ],
   "source": [
    "from src.datasets import ClippedDataset\n",
    "device = torch.device(\"cuda:0\")\n",
    "train_dataset = ClippedDataset(x_train.to(device),s_train.to(device))\n",
    "val_dataset = ClippedDataset(x_val.to(device),s_val.to(device))\n",
    "from torch.utils.data import Dataset, DataLoader\n",
    "from src.models import AudioDecoder,AudioEncoder,notMIWAE\n",
    "\n",
    "\n",
    "train_loader = DataLoader(train_dataset,64)\n",
    "val_loader = DataLoader(val_dataset,64)\n",
    "\n",
    "encoder = AudioEncoder(1024,20).to(device)\n",
    "decoder = AudioDecoder(1024,20,5).to(device)\n",
    "encoder.to(device)\n",
    "missing_model = LogisticMissingModel(fixed_params=True).to(device)\n",
    "model = notMIWAE(encoder, decoder, missing_model,1024,20,1024,20,device)\n",
    "model.to(device)\n",
    "from src.train_test import *\n",
    "optimizer = torch.optim.Adam(filter(lambda p: p.requires_grad, model.parameters()), lr=0.001)\n",
    "train(model,optimizer,train_loader,val_loader,device,100,5,1)"
   ]
  },
  {
   "cell_type": "code",
   "execution_count": 17,
   "metadata": {},
   "outputs": [
    {
     "data": {
      "text/plain": [
       "[<matplotlib.lines.Line2D at 0x7fad7a068700>]"
      ]
     },
     "execution_count": 17,
     "metadata": {},
     "output_type": "execute_result"
    },
    {
     "data": {
      "image/png": "[encoded data removed]",
      "text/plain": [
       "<Figure size 640x480 with 1 Axes>"
      ]
     },
     "metadata": {},
     "output_type": "display_data"
    }
   ],
   "source": [
    "idx = 500\n",
    "plt.plot(x_train[259].t().cpu().numpy()[idx:idx+100])\n",
    "# red dots where s[259] = 1\n",
    "plt.plot(s_train[259].t().cpu().numpy()[idx:idx+100], 'ro')\n",
    "plt.plot(x_impute.t().cpu().detach().numpy()[idx:idx+100])"
   ]
  },
  {
   "cell_type": "code",
   "execution_count": 15,
   "metadata": {},
   "outputs": [],
   "source": [
    "x_impute = model.impute(x_train[259].view(1,1024).to(device), s_train[259].view(1, 1024).to(device))"
   ]
  },
  {
   "cell_type": "code",
   "execution_count": null,
   "metadata": {},
   "outputs": [],
   "source": []
  }
 ],
 "metadata": {
  "kernelspec": {
   "display_name": "Python 3",
   "language": "python",
   "name": "python3"
  },
  "language_info": {
   "codemirror_mode": {
    "name": "ipython",
    "version": 3
   },
   "file_extension": ".py",
   "mimetype": "text/x-python",
   "name": "python",
   "nbconvert_exporter": "python",
   "pygments_lexer": "ipython3",
   "version": "3.9.19"
  }
 },
 "nbformat": 4,
 "nbformat_minor": 2
}
